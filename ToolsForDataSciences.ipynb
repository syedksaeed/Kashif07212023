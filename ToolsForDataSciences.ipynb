{
 "cells": [
  {
   "cell_type": "markdown",
   "id": "c25cca6e-0559-4a29-98fd-6e4b338d6c63",
   "metadata": {},
   "source": [
    "#Tools for Data Sciences"
   ]
  },
  {
   "cell_type": "markdown",
   "id": "1cb95be8-a931-4b44-b230-89c352f25ab6",
   "metadata": {},
   "source": [
    "# Data Sciences Languages\n",
    "   Python\n",
    "   SQL\n",
    "   Julia \n",
    "   Java\n",
    "   MATLAB\n",
    "   Scala\n",
    "   JavaScript"
   ]
  },
  {
   "cell_type": "markdown",
   "id": "1711337d-a71e-43e0-a267-5f620f4cf005",
   "metadata": {},
   "source": [
    "# Data Sciences Libraries\n",
    "  Pandas \\n\n",
    "  Tensor Flow \\n\n",
    "  Scikit-learn \\n\n",
    "  Pytorch \\n"
   ]
  },
  {
   "cell_type": "markdown",
   "id": "16ce8f64-d773-4413-b277-e1fb51e03e46",
   "metadata": {
    "jupyter": {
     "source_hidden": true
    },
    "tags": []
   },
   "source": [
    "# Table\n",
    "|Sr#||Tools for Data Sciences|\n",
    "| 01||Python|\n",
    "| 02||SQL|\n",
    "| 03||Julia|\n",
    "| 04||Java|\n",
    "| 05||MATLAB|"
   ]
  },
  {
   "cell_type": "markdown",
   "id": "73475889-8855-4b98-957b-7a1fe49604a6",
   "metadata": {},
   "source": [
    "# Table"
   ]
  },
  {
   "cell_type": "markdown",
   "id": "2104f113-98c6-4d2e-95db-0e5d50fb1111",
   "metadata": {},
   "source": [
    "|Nu||Tools Data Sciences|\n",
    "|--||-------]\n",
    "|01||Python|\n",
    "|02||SQL| \n",
    "|03||Julia|\n",
    "|04||Java| \n",
    "|05||MATLAB|"
   ]
  },
  {
   "cell_type": "markdown",
   "id": "944f88c9-7939-4b59-9c47-96dfd490ae29",
   "metadata": {},
   "source": [
    "|Nu||Tools Data Sciences|\n",
    "|--||-------|\n",
    "|01||Python|\n",
    "|02||SQL| \n",
    "|03||Julia|\n",
    "|04||Java| \n",
    "|05||MATLAB|"
   ]
  },
  {
   "cell_type": "markdown",
   "id": "d96783a3-c896-4c85-8499-ca097d7e87df",
   "metadata": {},
   "source": [
    "# Addition & Subtraction"
   ]
  },
  {
   "cell_type": "code",
   "execution_count": 2,
   "id": "5820142f-4aec-429e-8c9a-6bab16d4f7aa",
   "metadata": {
    "tags": []
   },
   "outputs": [
    {
     "data": {
      "text/plain": [
       "375"
      ]
     },
     "execution_count": 2,
     "metadata": {},
     "output_type": "execute_result"
    }
   ],
   "source": [
    "125+250"
   ]
  },
  {
   "cell_type": "code",
   "execution_count": 3,
   "id": "c40da295-475d-44b3-b432-59820ced3d0e",
   "metadata": {
    "tags": []
   },
   "outputs": [
    {
     "data": {
      "text/plain": [
       "375"
      ]
     },
     "execution_count": 3,
     "metadata": {},
     "output_type": "execute_result"
    }
   ],
   "source": [
    "500-125"
   ]
  },
  {
   "cell_type": "markdown",
   "id": "22fa8d67-3110-43ab-b635-43c4d073bdcf",
   "metadata": {},
   "source": [
    "# Multiplication and Addition"
   ]
  },
  {
   "cell_type": "code",
   "execution_count": 5,
   "id": "a294abae-d25e-4b92-a9e4-fb8a194d2bc1",
   "metadata": {
    "tags": []
   },
   "outputs": [
    {
     "data": {
      "text/plain": [
       "75"
      ]
     },
     "execution_count": 5,
     "metadata": {},
     "output_type": "execute_result"
    }
   ],
   "source": [
    "5*15"
   ]
  },
  {
   "cell_type": "code",
   "execution_count": 6,
   "id": "600670f2-a50e-40a5-928f-0b85526047e3",
   "metadata": {
    "tags": []
   },
   "outputs": [
    {
     "data": {
      "text/plain": [
       "4966"
      ]
     },
     "execution_count": 6,
     "metadata": {},
     "output_type": "execute_result"
    }
   ],
   "source": [
    "2452+2514"
   ]
  },
  {
   "cell_type": "markdown",
   "id": "32bef67c-3139-4c05-a053-268c06d5c66e",
   "metadata": {},
   "source": [
    "# Converting Minutes into Hours"
   ]
  },
  {
   "cell_type": "code",
   "execution_count": 7,
   "id": "e5d0501c-5d34-43c5-ad76-fab061b44e26",
   "metadata": {
    "tags": []
   },
   "outputs": [
    {
     "ename": "NameError",
     "evalue": "name 'floeat' is not defined",
     "output_type": "error",
     "traceback": [
      "\u001b[0;31m---------------------------------------------------------------------------\u001b[0m",
      "\u001b[0;31mNameError\u001b[0m                                 Traceback (most recent call last)",
      "\u001b[0;32m/tmp/ipykernel_1024/3059892535.py\u001b[0m in \u001b[0;36m<module>\u001b[0;34m\u001b[0m\n\u001b[0;32m----> 1\u001b[0;31m \u001b[0mtime\u001b[0m\u001b[0;34m=\u001b[0m\u001b[0mfloeat\u001b[0m\u001b[0;34m(\u001b[0m\u001b[0minput\u001b[0m\u001b[0;34m(\u001b[0m\u001b[0;34m\"Enter time into Minutes: \"\u001b[0m\u001b[0;34m)\u001b[0m\u001b[0;34m)\u001b[0m\u001b[0;34m\u001b[0m\u001b[0;34m\u001b[0m\u001b[0m\n\u001b[0m\u001b[1;32m      2\u001b[0m \u001b[0mHours\u001b[0m\u001b[0;34m=\u001b[0m\u001b[0mTime\u001b[0m\u001b[0;34m/\u001b[0m\u001b[0;36m60\u001b[0m\u001b[0;34m\u001b[0m\u001b[0;34m\u001b[0m\u001b[0m\n",
      "\u001b[0;31mNameError\u001b[0m: name 'floeat' is not defined"
     ]
    }
   ],
   "source": [
    "time=floeat(input(\"Enter time into Minutes: \"))\n",
    "Hours=Time/60"
   ]
  },
  {
   "cell_type": "code",
   "execution_count": 8,
   "id": "0f9f6791-87c8-4758-90dc-2c4b89b7b9b7",
   "metadata": {
    "tags": []
   },
   "outputs": [
    {
     "name": "stdin",
     "output_type": "stream",
     "text": [
      "Enter time into Minutes:  3600\n"
     ]
    },
    {
     "ename": "NameError",
     "evalue": "name 'Time' is not defined",
     "output_type": "error",
     "traceback": [
      "\u001b[0;31m---------------------------------------------------------------------------\u001b[0m",
      "\u001b[0;31mNameError\u001b[0m                                 Traceback (most recent call last)",
      "\u001b[0;32m/tmp/ipykernel_1024/2020579390.py\u001b[0m in \u001b[0;36m<module>\u001b[0;34m\u001b[0m\n\u001b[1;32m      1\u001b[0m \u001b[0mtime\u001b[0m\u001b[0;34m=\u001b[0m\u001b[0mfloat\u001b[0m\u001b[0;34m(\u001b[0m\u001b[0minput\u001b[0m\u001b[0;34m(\u001b[0m\u001b[0;34m\"Enter time into Minutes: \"\u001b[0m\u001b[0;34m)\u001b[0m\u001b[0;34m)\u001b[0m\u001b[0;34m\u001b[0m\u001b[0;34m\u001b[0m\u001b[0m\n\u001b[0;32m----> 2\u001b[0;31m \u001b[0mHours\u001b[0m\u001b[0;34m=\u001b[0m\u001b[0mTime\u001b[0m\u001b[0;34m/\u001b[0m\u001b[0;36m60\u001b[0m\u001b[0;34m\u001b[0m\u001b[0;34m\u001b[0m\u001b[0m\n\u001b[0m",
      "\u001b[0;31mNameError\u001b[0m: name 'Time' is not defined"
     ]
    }
   ],
   "source": [
    "time=float(input(\"Enter time into Minutes: \"))\n",
    "Hours=Time/60"
   ]
  },
  {
   "cell_type": "code",
   "execution_count": 9,
   "id": "a8475ac2-2798-49a8-ab73-11fd847098ed",
   "metadata": {
    "tags": []
   },
   "outputs": [
    {
     "name": "stdin",
     "output_type": "stream",
     "text": [
      "Enter time into Minutes:  360\n"
     ]
    }
   ],
   "source": [
    "time=float(input(\"Enter time into Minutes: \"))\n",
    "Hours=time/60"
   ]
  },
  {
   "cell_type": "code",
   "execution_count": 10,
   "id": "c24e8689-97ae-4ee7-80e4-f17f81eed5fc",
   "metadata": {
    "tags": []
   },
   "outputs": [
    {
     "name": "stdin",
     "output_type": "stream",
     "text": [
      "Enter time into Minutes:  3600\n"
     ]
    },
    {
     "name": "stdout",
     "output_type": "stream",
     "text": [
      "THe time in hours is: \n"
     ]
    }
   ],
   "source": [
    "time=float(input(\"Enter time into Minutes: \"))\n",
    "Hours=time/60\n",
    "print(\"THe time in hours is: \")"
   ]
  },
  {
   "cell_type": "code",
   "execution_count": 11,
   "id": "f45c3b72-3750-4db0-b078-969822e23eb0",
   "metadata": {
    "tags": []
   },
   "outputs": [
    {
     "name": "stdin",
     "output_type": "stream",
     "text": [
      "Enter time into Minutes:  3600\n"
     ]
    },
    {
     "ename": "TypeError",
     "evalue": "not all arguments converted during string formatting",
     "output_type": "error",
     "traceback": [
      "\u001b[0;31m---------------------------------------------------------------------------\u001b[0m",
      "\u001b[0;31mTypeError\u001b[0m                                 Traceback (most recent call last)",
      "\u001b[0;32m/tmp/ipykernel_1024/260327363.py\u001b[0m in \u001b[0;36m<module>\u001b[0;34m\u001b[0m\n\u001b[1;32m      1\u001b[0m \u001b[0mtime\u001b[0m\u001b[0;34m=\u001b[0m\u001b[0mfloat\u001b[0m\u001b[0;34m(\u001b[0m\u001b[0minput\u001b[0m\u001b[0;34m(\u001b[0m\u001b[0;34m\"Enter time into Minutes: \"\u001b[0m\u001b[0;34m)\u001b[0m\u001b[0;34m)\u001b[0m\u001b[0;34m\u001b[0m\u001b[0;34m\u001b[0m\u001b[0m\n\u001b[1;32m      2\u001b[0m \u001b[0mHours\u001b[0m\u001b[0;34m=\u001b[0m\u001b[0mtime\u001b[0m\u001b[0;34m/\u001b[0m\u001b[0;36m60\u001b[0m\u001b[0;34m\u001b[0m\u001b[0;34m\u001b[0m\u001b[0m\n\u001b[0;32m----> 3\u001b[0;31m \u001b[0mprint\u001b[0m\u001b[0;34m(\u001b[0m\u001b[0;34m\"THe time in hours is:\"\u001b[0m \u001b[0;34m%\u001b[0m \u001b[0mHours\u001b[0m\u001b[0;34m)\u001b[0m\u001b[0;34m\u001b[0m\u001b[0;34m\u001b[0m\u001b[0m\n\u001b[0m",
      "\u001b[0;31mTypeError\u001b[0m: not all arguments converted during string formatting"
     ]
    }
   ],
   "source": [
    "time=float(input(\"Enter time into Minutes: \"))\n",
    "Hours=time/60\n",
    "print(\"THe time in hours is:\" % Hours)"
   ]
  },
  {
   "cell_type": "code",
   "execution_count": 12,
   "id": "a7490882-690f-4c76-b926-37afbd788537",
   "metadata": {
    "tags": []
   },
   "outputs": [
    {
     "name": "stdin",
     "output_type": "stream",
     "text": [
      "Enter time into Minutes:  3600\n"
     ]
    },
    {
     "ename": "TypeError",
     "evalue": "not all arguments converted during string formatting",
     "output_type": "error",
     "traceback": [
      "\u001b[0;31m---------------------------------------------------------------------------\u001b[0m",
      "\u001b[0;31mTypeError\u001b[0m                                 Traceback (most recent call last)",
      "\u001b[0;32m/tmp/ipykernel_1024/3204404700.py\u001b[0m in \u001b[0;36m<module>\u001b[0;34m\u001b[0m\n\u001b[1;32m      1\u001b[0m \u001b[0mtime\u001b[0m\u001b[0;34m=\u001b[0m\u001b[0mfloat\u001b[0m\u001b[0;34m(\u001b[0m\u001b[0minput\u001b[0m\u001b[0;34m(\u001b[0m\u001b[0;34m\"Enter time into Minutes: \"\u001b[0m\u001b[0;34m)\u001b[0m\u001b[0;34m)\u001b[0m\u001b[0;34m\u001b[0m\u001b[0;34m\u001b[0m\u001b[0m\n\u001b[1;32m      2\u001b[0m \u001b[0mHours\u001b[0m\u001b[0;34m=\u001b[0m\u001b[0mtime\u001b[0m\u001b[0;34m/\u001b[0m\u001b[0;36m60\u001b[0m\u001b[0;34m\u001b[0m\u001b[0;34m\u001b[0m\u001b[0m\n\u001b[0;32m----> 3\u001b[0;31m \u001b[0mprint\u001b[0m\u001b[0;34m(\u001b[0m\u001b[0;34m\"THe time in hours is:\"\u001b[0m \u001b[0;34m%\u001b[0m \u001b[0;34m(\u001b[0m\u001b[0mHours\u001b[0m\u001b[0;34m)\u001b[0m\u001b[0;34m)\u001b[0m\u001b[0;34m\u001b[0m\u001b[0;34m\u001b[0m\u001b[0m\n\u001b[0m",
      "\u001b[0;31mTypeError\u001b[0m: not all arguments converted during string formatting"
     ]
    }
   ],
   "source": [
    "time=float(input(\"Enter time into Minutes: \"))\n",
    "Hours=time/60\n",
    "print(\"THe time in hours is:\" % (Hours))"
   ]
  },
  {
   "cell_type": "code",
   "execution_count": 13,
   "id": "7ad0e046-adf9-450a-ac74-cebcf1e45471",
   "metadata": {
    "tags": []
   },
   "outputs": [
    {
     "name": "stdin",
     "output_type": "stream",
     "text": [
      "Enter time into Minutes:  3600\n"
     ]
    },
    {
     "ename": "TypeError",
     "evalue": "not all arguments converted during string formatting",
     "output_type": "error",
     "traceback": [
      "\u001b[0;31m---------------------------------------------------------------------------\u001b[0m",
      "\u001b[0;31mTypeError\u001b[0m                                 Traceback (most recent call last)",
      "\u001b[0;32m/tmp/ipykernel_1024/2701720004.py\u001b[0m in \u001b[0;36m<module>\u001b[0;34m\u001b[0m\n\u001b[1;32m      1\u001b[0m \u001b[0mtime\u001b[0m\u001b[0;34m=\u001b[0m\u001b[0mfloat\u001b[0m\u001b[0;34m(\u001b[0m\u001b[0minput\u001b[0m\u001b[0;34m(\u001b[0m\u001b[0;34m\"Enter time into Minutes: \"\u001b[0m\u001b[0;34m)\u001b[0m\u001b[0;34m)\u001b[0m\u001b[0;34m\u001b[0m\u001b[0;34m\u001b[0m\u001b[0m\n\u001b[1;32m      2\u001b[0m \u001b[0mHours\u001b[0m\u001b[0;34m=\u001b[0m\u001b[0mint\u001b[0m\u001b[0;34m(\u001b[0m\u001b[0mtime\u001b[0m\u001b[0;34m/\u001b[0m\u001b[0;36m60\u001b[0m\u001b[0;34m)\u001b[0m\u001b[0;34m\u001b[0m\u001b[0;34m\u001b[0m\u001b[0m\n\u001b[0;32m----> 3\u001b[0;31m \u001b[0mprint\u001b[0m\u001b[0;34m(\u001b[0m\u001b[0;34m\"THe time in hours is:\"\u001b[0m \u001b[0;34m%\u001b[0m \u001b[0mHours\u001b[0m\u001b[0;34m)\u001b[0m\u001b[0;34m\u001b[0m\u001b[0;34m\u001b[0m\u001b[0m\n\u001b[0m",
      "\u001b[0;31mTypeError\u001b[0m: not all arguments converted during string formatting"
     ]
    }
   ],
   "source": [
    "time=float(input(\"Enter time into Minutes: \"))\n",
    "Hours=int(time/60)\n",
    "print(\"THe time in hours is:\" % Hours)"
   ]
  },
  {
   "cell_type": "code",
   "execution_count": 14,
   "id": "ccff6fb0-1f22-4bd5-90d2-c4622b15eeb5",
   "metadata": {
    "tags": []
   },
   "outputs": [
    {
     "name": "stdin",
     "output_type": "stream",
     "text": [
      "Enter time into Minutes:  3600\n"
     ]
    },
    {
     "ename": "TypeError",
     "evalue": "not all arguments converted during string formatting",
     "output_type": "error",
     "traceback": [
      "\u001b[0;31m---------------------------------------------------------------------------\u001b[0m",
      "\u001b[0;31mTypeError\u001b[0m                                 Traceback (most recent call last)",
      "\u001b[0;32m/tmp/ipykernel_1024/2110505130.py\u001b[0m in \u001b[0;36m<module>\u001b[0;34m\u001b[0m\n\u001b[1;32m      1\u001b[0m \u001b[0mtime\u001b[0m\u001b[0;34m=\u001b[0m\u001b[0mfloat\u001b[0m\u001b[0;34m(\u001b[0m\u001b[0minput\u001b[0m\u001b[0;34m(\u001b[0m\u001b[0;34m\"Enter time into Minutes: \"\u001b[0m\u001b[0;34m)\u001b[0m\u001b[0;34m)\u001b[0m\u001b[0;34m\u001b[0m\u001b[0;34m\u001b[0m\u001b[0m\n\u001b[1;32m      2\u001b[0m \u001b[0mHours\u001b[0m\u001b[0;34m=\u001b[0m\u001b[0mint\u001b[0m\u001b[0;34m(\u001b[0m\u001b[0mtime\u001b[0m\u001b[0;34m/\u001b[0m\u001b[0;36m60\u001b[0m\u001b[0;34m)\u001b[0m\u001b[0;34m\u001b[0m\u001b[0;34m\u001b[0m\u001b[0m\n\u001b[0;32m----> 3\u001b[0;31m \u001b[0mprint\u001b[0m\u001b[0;34m(\u001b[0m\u001b[0;34m\"THe time in hours is:\"\u001b[0m \u001b[0;34m%\u001b[0m \u001b[0;34m(\u001b[0m\u001b[0mHours\u001b[0m\u001b[0;34m)\u001b[0m\u001b[0;34m)\u001b[0m\u001b[0;34m\u001b[0m\u001b[0;34m\u001b[0m\u001b[0m\n\u001b[0m",
      "\u001b[0;31mTypeError\u001b[0m: not all arguments converted during string formatting"
     ]
    }
   ],
   "source": [
    "time=float(input(\"Enter time into Minutes: \"))\n",
    "Hours=int(time/60)\n",
    "print(\"THe time in hours is:\" % (Hours))"
   ]
  },
  {
   "cell_type": "markdown",
   "id": "1b82c607-66de-4588-8d4b-04bee6f6f3a5",
   "metadata": {},
   "source": [
    "# Converting Minutes into Hours¶"
   ]
  },
  {
   "cell_type": "code",
   "execution_count": 15,
   "id": "3773a929-a2a9-4e3f-ba30-ef973482a592",
   "metadata": {
    "tags": []
   },
   "outputs": [
    {
     "name": "stdin",
     "output_type": "stream",
     "text": [
      "Enter time into Minutes:  3600\n"
     ]
    },
    {
     "name": "stdout",
     "output_type": "stream",
     "text": [
      "THe time in hours is: \n"
     ]
    }
   ],
   "source": [
    "time=float(input(\"Enter time into Minutes: \"))\n",
    "Hours=time/60\n",
    "print(\"THe time in hours is: \")"
   ]
  },
  {
   "cell_type": "markdown",
   "id": "95bf980a-709b-483d-a497-5ca8eec5b463",
   "metadata": {},
   "source": [
    "# Objectives of the assignment"
   ]
  },
  {
   "cell_type": "code",
   "execution_count": 16,
   "id": "7c1d6373-e195-4a52-b87b-a2756ca0d4ca",
   "metadata": {
    "tags": []
   },
   "outputs": [
    {
     "name": "stdout",
     "output_type": "stream",
     "text": [
      "the Objective of this assignemnt is to provide the evidence that particpant knows basic of these tools\n"
     ]
    }
   ],
   "source": [
    "print(\"the Objective of this assignemnt is to provide the evidence that particpant knows basic of these tools\")"
   ]
  },
  {
   "cell_type": "markdown",
   "id": "ec7cdc88-1d41-4f8a-9841-055cdce9f186",
   "metadata": {},
   "source": [
    "# Write = Syed Kashif Saeed"
   ]
  },
  {
   "cell_type": "code",
   "execution_count": null,
   "id": "7fcf9e08-127d-463e-8985-1a86e09571a4",
   "metadata": {},
   "outputs": [],
   "source": []
  }
 ],
 "metadata": {
  "kernelspec": {
   "display_name": "Python",
   "language": "python",
   "name": "conda-env-python-py"
  },
  "language_info": {
   "codemirror_mode": {
    "name": "ipython",
    "version": 3
   },
   "file_extension": ".py",
   "mimetype": "text/x-python",
   "name": "python",
   "nbconvert_exporter": "python",
   "pygments_lexer": "ipython3",
   "version": "3.7.12"
  }
 },
 "nbformat": 4,
 "nbformat_minor": 5
}
